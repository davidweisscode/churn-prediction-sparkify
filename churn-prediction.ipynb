{
 "cells": [
  {
   "cell_type": "markdown",
   "metadata": {},
   "source": [
    "# Data Science Nanodegree - Capstone Project: PySpark\n",
    "\n",
    "## Customer Churn Prediction for the Sparkify Music Streaming Service\n",
    "\n",
    "Head over to Medium to read my blogpost at\n",
    "\n",
    "https://davidweisspost.medium.com/churn-prediction-with-pyspark-52ddece92ba4.\n",
    "\n",
    "This is a Jupyter Notebook containing the code involving the dataset provided by Udacity.\n",
    "Worked on IBM Cloud, a medium-sized version (248 MB, with 544,000 rows approximately) of the full dataset (12 GB) is uploaded to the IBM Cluster, for working with pyspark.\n",
    "\n",
    "This workspace contains a tiny subset (128MB) of the full dataset available (12GB). Feel free to use this workspace to build your project, or to explore a smaller subset with Spark before deploying your cluster on the cloud. Instructions for setting up your Spark cluster is included in the last lesson of the Extracurricular Spark Course content.\n",
    "\n",
    "### Overview and the Problem Statement\n",
    "This project deals with churn in a business setting, where the goal is to keep customers subscribed to a music streaming service. This specific dataset deals with data obtained from a hypothetical streaming service called Sparkify, made for Big Data Analysis using Apache Spark.\n",
    "\n",
    "### The Business Need\n",
    "Given a user's behavior on Sparkify, how likely are they to churn (to cancel their subscription)?\n",
    "The question is solved through a Machine Learning classification approach.\n",
    "The project explores different types of classification algorithms to support the argument that there is a strong partial correlation between the user's behavior and their likelihood to churn.\n",
    "The algorithms trained and tested are: Random Forest Classifier, Logistic Regression.\n",
    "The models are further tuned for its hyperparameters, to improve their performances, and the algorithms are evaluated based on the F1-Score.\n",
    "\n",
    "### Evaluation\n",
    "The Accuracy Score gives more importance to True Positives and True Negatives. This is good in cases of a balanced classification problem. The F1-Score on the other hand, by its very mathematical calculation, gives more importance to False Positives and False Negatives, and a higher F1-Score means better performance by the model.\n",
    "Real world classification problems, especially for customer churn analysis, the data is often imbalanced (much more users do not churn, compared to users who churn).\n",
    "\n",
    "Automated model selection by Grid Search and Cross Validation to tune the hyperparameters in order to obtain an optimal understanding of the interactions between the features and the target variable are also conducted in this project."
   ]
  },
  {
   "cell_type": "code",
   "execution_count": 2,
   "metadata": {},
   "outputs": [],
   "source": [
    "# import libraries\n",
    "import pyspark\n",
    "from pyspark import SparkConf\n",
    "from pyspark.sql import SparkSession\n",
    "import pyspark.sql.functions as psqf\n",
    "import pyspark.sql.types as psqt\n",
    "from pyspark import SparkContext\n",
    "from pyspark.sql import SparkSession\n",
    "from pyspark.sql.window import Window\n",
    "from pyspark.sql.functions import udf, max, min, lit, when, col, count, countDistinct , avg\n",
    "from pyspark.sql.types import *"
   ]
  },
  {
   "cell_type": "code",
   "execution_count": 3,
   "metadata": {},
   "outputs": [],
   "source": [
    "from sklearn.metrics import roc_curve, auc\n",
    "from pyspark.ml import Pipeline\n",
    "from pyspark.ml.classification import NaiveBayes ,LogisticRegression, RandomForestClassifier, DecisionTreeClassifier ,GBTClassifier\n",
    "from pyspark.mllib.tree import DecisionTree\n",
    "from pyspark.ml.evaluation import BinaryClassificationEvaluator, MulticlassClassificationEvaluator\n",
    "from pyspark.ml.linalg import Vectors\n",
    "from pyspark.mllib.evaluation import BinaryClassificationMetrics as metric\n",
    "from pyspark.ml.feature import VectorAssembler, Normalizer, StandardScaler\n",
    "from pyspark.ml.tuning import CrossValidator, ParamGridBuilder"
   ]
  },
  {
   "cell_type": "code",
   "execution_count": 4,
   "metadata": {},
   "outputs": [],
   "source": [
    "import time\n",
    "import datetime\n",
    "import numpy as np\n",
    "import pandas as pd\n",
    "import matplotlib.pyplot as plt\n",
    "%matplotlib inline\n",
    "import math\n",
    "import re\n",
    "import seaborn as sns"
   ]
  },
  {
   "cell_type": "code",
   "execution_count": 5,
   "metadata": {},
   "outputs": [],
   "source": [
    "# create a Spark session\n",
    "spark = SparkSession \\\n",
    "    .builder \\\n",
    "    .appName(\"sparkify capstone project\") \\\n",
    "    .getOrCreate()"
   ]
  },
  {
   "cell_type": "markdown",
   "metadata": {},
   "source": [
    "# Load and Clean Dataset\n",
    "In this workspace, the mini-dataset file is `mini_sparkify_event_data.json`. Load and clean the dataset, checking for invalid or missing data - for example, records without userids or sessionids. "
   ]
  },
  {
   "cell_type": "code",
   "execution_count": 6,
   "metadata": {},
   "outputs": [],
   "source": [
    "path = \"mini_sparkify_event_data.json\"\n",
    "sparkify_data = spark.read.json(path)"
   ]
  },
  {
   "cell_type": "code",
   "execution_count": 7,
   "metadata": {},
   "outputs": [
    {
     "name": "stdout",
     "output_type": "stream",
     "text": [
      "root\n",
      " |-- artist: string (nullable = true)\n",
      " |-- auth: string (nullable = true)\n",
      " |-- firstName: string (nullable = true)\n",
      " |-- gender: string (nullable = true)\n",
      " |-- itemInSession: long (nullable = true)\n",
      " |-- lastName: string (nullable = true)\n",
      " |-- length: double (nullable = true)\n",
      " |-- level: string (nullable = true)\n",
      " |-- location: string (nullable = true)\n",
      " |-- method: string (nullable = true)\n",
      " |-- page: string (nullable = true)\n",
      " |-- registration: long (nullable = true)\n",
      " |-- sessionId: long (nullable = true)\n",
      " |-- song: string (nullable = true)\n",
      " |-- status: long (nullable = true)\n",
      " |-- ts: long (nullable = true)\n",
      " |-- userAgent: string (nullable = true)\n",
      " |-- userId: string (nullable = true)\n",
      "\n"
     ]
    }
   ],
   "source": [
    "sparkify_data.printSchema()"
   ]
  },
  {
   "cell_type": "code",
   "execution_count": 8,
   "metadata": {},
   "outputs": [
    {
     "name": "stdout",
     "output_type": "stream",
     "text": [
      "+-------+-----------------+\n",
      "|summary|           length|\n",
      "+-------+-----------------+\n",
      "|  count|           228108|\n",
      "|   mean|249.1171819778458|\n",
      "| stddev|99.23517921058361|\n",
      "|    min|          0.78322|\n",
      "|    max|       3024.66567|\n",
      "+-------+-----------------+\n",
      "\n"
     ]
    }
   ],
   "source": [
    "sparkify_data.describe(\"length\").show()"
   ]
  },
  {
   "cell_type": "code",
   "execution_count": 9,
   "metadata": {},
   "outputs": [],
   "source": [
    "def show_null_columns(df):\n",
    "    \"\"\"\n",
    "    Show number of null values per column of df\n",
    "    \"\"\"\n",
    "    df.select([psqf.count(psqf.when(psqf.isnull(n), n)).alias(n) for n in df.columns]).show()"
   ]
  },
  {
   "cell_type": "code",
   "execution_count": 10,
   "metadata": {},
   "outputs": [
    {
     "name": "stdout",
     "output_type": "stream",
     "text": [
      "+------+----+---------+------+-------------+--------+------+-----+--------+------+----+------------+---------+-----+------+---+---------+------+\n",
      "|artist|auth|firstName|gender|itemInSession|lastName|length|level|location|method|page|registration|sessionId| song|status| ts|userAgent|userId|\n",
      "+------+----+---------+------+-------------+--------+------+-----+--------+------+----+------------+---------+-----+------+---+---------+------+\n",
      "| 58392|   0|     8346|  8346|            0|    8346| 58392|    0|    8346|     0|   0|        8346|        0|58392|     0|  0|     8346|     0|\n",
      "+------+----+---------+------+-------------+--------+------+-----+--------+------+----+------------+---------+-----+------+---+---------+------+\n",
      "\n"
     ]
    }
   ],
   "source": [
    "show_null_columns(sparkify_data)"
   ]
  },
  {
   "cell_type": "code",
   "execution_count": 11,
   "metadata": {},
   "outputs": [
    {
     "name": "stdout",
     "output_type": "stream",
     "text": [
      "+------+----------+---------+------+-------------+--------+------+-----+--------+------+----+------------+---------+----+------+-------------+---------+------+\n",
      "|artist|      auth|firstName|gender|itemInSession|lastName|length|level|location|method|page|registration|sessionId|song|status|           ts|userAgent|userId|\n",
      "+------+----------+---------+------+-------------+--------+------+-----+--------+------+----+------------+---------+----+------+-------------+---------+------+\n",
      "|  null|Logged Out|     null|  null|          100|    null|  null| free|    null|   GET|Home|        null|        8|null|   200|1538355745000|     null|      |\n",
      "|  null|Logged Out|     null|  null|          101|    null|  null| free|    null|   GET|Help|        null|        8|null|   200|1538355807000|     null|      |\n",
      "|  null|Logged Out|     null|  null|          102|    null|  null| free|    null|   GET|Home|        null|        8|null|   200|1538355841000|     null|      |\n",
      "+------+----------+---------+------+-------------+--------+------+-----+--------+------+----+------------+---------+----+------+-------------+---------+------+\n",
      "only showing top 3 rows\n",
      "\n"
     ]
    }
   ],
   "source": [
    "sparkify_data.filter(sparkify_data[\"userId\"] == \"\").show(3)"
   ]
  },
  {
   "cell_type": "code",
   "execution_count": 12,
   "metadata": {},
   "outputs": [],
   "source": [
    "def get_top_sorted_values(data, col, top):\n",
    "    \"\"\"\n",
    "    Show the users in sorted order \n",
    "    \"\"\"\n",
    "    data.select([col]).dropDuplicates().sort(col).show(top)"
   ]
  },
  {
   "cell_type": "code",
   "execution_count": 13,
   "metadata": {},
   "outputs": [],
   "source": [
    "# for col in sparkify_data.columns:\n",
    "#     get_top_sorted_values(sparkify_data, col, 3)"
   ]
  },
  {
   "cell_type": "markdown",
   "metadata": {},
   "source": [
    "### Columns with null values\n",
    "\n",
    "- artist\n",
    "- firstName\n",
    "- lastName\n",
    "- gender\n",
    "- length\n",
    "- location\n",
    "- registration\n",
    "- song\n",
    "- userAgent\n",
    "- userId (\"\")"
   ]
  },
  {
   "cell_type": "code",
   "execution_count": 14,
   "metadata": {},
   "outputs": [],
   "source": [
    "sparkify_data = sparkify_data.filter(sparkify_data[\"userId\"] != \"\")"
   ]
  },
  {
   "cell_type": "code",
   "execution_count": 15,
   "metadata": {},
   "outputs": [],
   "source": [
    "# sparkify_data = sparkify_data.filter(sparkify_data[\"song\"] != \"null\") # Events not related to playing music"
   ]
  },
  {
   "cell_type": "code",
   "execution_count": 16,
   "metadata": {},
   "outputs": [
    {
     "name": "stdout",
     "output_type": "stream",
     "text": [
      "+------+----+---------+------+-------------+--------+------+-----+--------+------+----+------------+---------+-----+------+---+---------+------+\n",
      "|artist|auth|firstName|gender|itemInSession|lastName|length|level|location|method|page|registration|sessionId| song|status| ts|userAgent|userId|\n",
      "+------+----+---------+------+-------------+--------+------+-----+--------+------+----+------------+---------+-----+------+---+---------+------+\n",
      "| 50046|   0|        0|     0|            0|       0| 50046|    0|       0|     0|   0|           0|        0|50046|     0|  0|        0|     0|\n",
      "+------+----+---------+------+-------------+--------+------+-----+--------+------+----+------------+---------+-----+------+---+---------+------+\n",
      "\n"
     ]
    }
   ],
   "source": [
    "show_null_columns(sparkify_data)"
   ]
  },
  {
   "cell_type": "code",
   "execution_count": 54,
   "metadata": {},
   "outputs": [
    {
     "name": "stdout",
     "output_type": "stream",
     "text": [
      "+------+-----+--------------+---------+---------+------+-------------+--------+---------+-----+---------------+------+--------+-------------+---------+---------+------+-------------+--------------------+\n",
      "|userId|churn|        artist|     auth|firstName|gender|itemInSession|lastName|   length|level|       location|method|    page| registration|sessionId|     song|status|           ts|           userAgent|\n",
      "+------+-----+--------------+---------+---------+------+-------------+--------+---------+-----+---------------+------+--------+-------------+---------+---------+------+-------------+--------------------+\n",
      "|    30|    0|Martha Tilston|Logged In|    Colin|     M|           50| Freeman|277.89016| paid|Bakersfield, CA|   PUT|NextSong|1538173362000|       29|Rockpools|   200|1538352117000|Mozilla/5.0 (Wind...|\n",
      "+------+-----+--------------+---------+---------+------+-------------+--------+---------+-----+---------------+------+--------+-------------+---------+---------+------+-------------+--------------------+\n",
      "only showing top 1 row\n",
      "\n"
     ]
    }
   ],
   "source": [
    "sparkify_data.filter(sparkify_data[\"userId\"] == 30).show(1)"
   ]
  },
  {
   "cell_type": "markdown",
   "metadata": {},
   "source": [
    "# Exploratory Data Analysis\n",
    "When you're working with the full dataset, perform EDA by loading a small subset of the data and doing basic manipulations within Spark. In this workspace, you are already provided a small subset of data you can explore."
   ]
  },
  {
   "cell_type": "code",
   "execution_count": 18,
   "metadata": {},
   "outputs": [
    {
     "data": {
      "text/plain": [
       "225"
      ]
     },
     "execution_count": 18,
     "metadata": {},
     "output_type": "execute_result"
    }
   ],
   "source": [
    "sparkify_data.select(\"userId\").distinct().count()"
   ]
  },
  {
   "cell_type": "code",
   "execution_count": 19,
   "metadata": {},
   "outputs": [
    {
     "name": "stdout",
     "output_type": "stream",
     "text": [
      "+--------------------+------+\n",
      "|                page| count|\n",
      "+--------------------+------+\n",
      "|              Cancel|    52|\n",
      "|    Submit Downgrade|    63|\n",
      "|         Thumbs Down|  2546|\n",
      "|                Home| 10082|\n",
      "|           Downgrade|  2055|\n",
      "|         Roll Advert|  3933|\n",
      "|              Logout|  3226|\n",
      "|       Save Settings|   310|\n",
      "|Cancellation Conf...|    52|\n",
      "|               About|   495|\n",
      "|            Settings|  1514|\n",
      "|     Add to Playlist|  6526|\n",
      "|          Add Friend|  4277|\n",
      "|            NextSong|228108|\n",
      "|           Thumbs Up| 12551|\n",
      "|                Help|  1454|\n",
      "|             Upgrade|   499|\n",
      "|               Error|   252|\n",
      "|      Submit Upgrade|   159|\n",
      "+--------------------+------+\n",
      "\n"
     ]
    }
   ],
   "source": [
    "page_counts = sparkify_data.groupby('page').count()\n",
    "page_counts.show()"
   ]
  },
  {
   "cell_type": "markdown",
   "metadata": {},
   "source": [
    "### Define Churn\n",
    "\n",
    "Once you've done some preliminary analysis, create a column `Churn` to use as the label for your model. I suggest using the `Cancellation Confirmation` events to define your churn, which happen for both paid and free users. As a bonus task, you can also look into the `Downgrade` events."
   ]
  },
  {
   "cell_type": "code",
   "execution_count": 20,
   "metadata": {},
   "outputs": [],
   "source": [
    "# define 1 as churned, 0 otherwise\n",
    "hasChurned = psqf.udf(lambda x: 1 if 'Cancellation Confirmation' in set(x) else 0)\n",
    "\n",
    "# Collect all page values and transform from \"long\" to \"wide\"-inline format\n",
    "churn = sparkify_data.groupby('userId').agg(psqf.collect_list('page').alias('pages'))\n",
    "churn = churn.withColumn(\"churn\", hasChurned(churn.pages)).drop('pages')"
   ]
  },
  {
   "cell_type": "code",
   "execution_count": 21,
   "metadata": {},
   "outputs": [
    {
     "name": "stdout",
     "output_type": "stream",
     "text": [
      "+-----+----------+\n",
      "|churn|user_count|\n",
      "+-----+----------+\n",
      "|    0|       173|\n",
      "|    1|        52|\n",
      "+-----+----------+\n",
      "\n"
     ]
    }
   ],
   "source": [
    "churn.groupby(\"churn\").count().withColumnRenamed('count', 'user_count').show()"
   ]
  },
  {
   "cell_type": "code",
   "execution_count": 22,
   "metadata": {},
   "outputs": [],
   "source": [
    "sparkify_data = churn.join(sparkify_data, \"userId\")"
   ]
  },
  {
   "cell_type": "markdown",
   "metadata": {},
   "source": [
    "### Explore Data\n",
    "Once you've defined churn, perform some exploratory data analysis to observe the behavior for users who stayed vs users who churned. You can start by exploring aggregates on these two groups of users, observing how much of a specific action they experienced per a certain time unit or number of songs played."
   ]
  },
  {
   "cell_type": "code",
   "execution_count": 23,
   "metadata": {},
   "outputs": [
    {
     "name": "stdout",
     "output_type": "stream",
     "text": [
      "+-----+------------+\n",
      "|churn|songs_played|\n",
      "+-----+------------+\n",
      "|    0|      191714|\n",
      "|    1|       36394|\n",
      "+-----+------------+\n",
      "\n"
     ]
    }
   ],
   "source": [
    "songs_played = sparkify_data.where(psqf.col('song')!='null').groupby(\"churn\").agg(psqf.count(psqf.col('song')).alias('songs_played'))\n",
    "songs_played.show()"
   ]
  },
  {
   "cell_type": "code",
   "execution_count": 24,
   "metadata": {},
   "outputs": [
    {
     "name": "stdout",
     "output_type": "stream",
     "text": [
      "+-----+-----------+\n",
      "|churn|songs_liked|\n",
      "+-----+-----------+\n",
      "|    0|      10692|\n",
      "|    1|       1859|\n",
      "+-----+-----------+\n",
      "\n"
     ]
    }
   ],
   "source": [
    "songs_liked = sparkify_data.where((psqf.col('page')=='Thumbs Up')).groupby(\"churn\").agg(psqf.count(psqf.col('page')).alias('songs_liked'))\n",
    "songs_liked.show()"
   ]
  },
  {
   "cell_type": "code",
   "execution_count": 25,
   "metadata": {},
   "outputs": [
    {
     "name": "stdout",
     "output_type": "stream",
     "text": [
      "+-----+---------------+\n",
      "|churn|songs_not_liked|\n",
      "+-----+---------------+\n",
      "|    0|           2050|\n",
      "|    1|            496|\n",
      "+-----+---------------+\n",
      "\n"
     ]
    }
   ],
   "source": [
    "songs_not_liked = sparkify_data.where((psqf.col('page')=='Thumbs Down')).groupby(\"churn\").agg(psqf.count(psqf.col('page')).alias('songs_not_liked'))\n",
    "songs_not_liked.show()"
   ]
  },
  {
   "cell_type": "code",
   "execution_count": 26,
   "metadata": {},
   "outputs": [],
   "source": [
    "# See other features: Roll Advert, Add to Playlist, Add Friend, NextSong, Help, Error\n",
    "# Compare relative values, divide by number of users who have churned / have not churned"
   ]
  },
  {
   "cell_type": "code",
   "execution_count": 27,
   "metadata": {},
   "outputs": [],
   "source": [
    "df_to_plot = sparkify_data.groupby('userId', 'churn').count()\n",
    "df_to_plot_pandas = df_to_plot.select(\"userId\", 'churn').toPandas()"
   ]
  },
  {
   "cell_type": "code",
   "execution_count": 28,
   "metadata": {},
   "outputs": [
    {
     "data": {
      "image/png": "[encoded data removed]",
      "text/plain": [
       "<matplotlib.figure.Figure at 0x7fec38a084e0>"
      ]
     },
     "metadata": {
      "needs_background": "light"
     },
     "output_type": "display_data"
    }
   ],
   "source": [
    "df_to_plot_pandas[\"churn\"].value_counts().plot(kind='bar');\n",
    "plt.ylabel('Users')\n",
    "plt.xlabel('Churn')\n",
    "plt.title('Churned vs Non-Churned');"
   ]
  },
  {
   "cell_type": "markdown",
   "metadata": {},
   "source": [
    "# Feature Engineering\n",
    "Once you've familiarized yourself with the data, build out the features you find promising to train your model on. To work with the full dataset, you can follow the following steps.\n",
    "- Write a script to extract the necessary features from the smaller subset of data\n",
    "- Ensure that your script is scalable, using the best practices discussed in Lesson 3\n",
    "- Try your script on the full data set, debugging your script if necessary\n",
    "\n",
    "If you are working in the classroom workspace, you can just extract features based on the small subset of data contained here. Be sure to transfer over this work to the larger dataset when you work on your Spark cluster."
   ]
  },
  {
   "cell_type": "code",
   "execution_count": 29,
   "metadata": {},
   "outputs": [
    {
     "name": "stdout",
     "output_type": "stream",
     "text": [
      "+------+------------+\n",
      "|userId|songs_played|\n",
      "+------+------------+\n",
      "|100010|         275|\n",
      "|200002|         387|\n",
      "|   125|           8|\n",
      "+------+------------+\n",
      "only showing top 3 rows\n",
      "\n"
     ]
    }
   ],
   "source": [
    "songs_played_count = sparkify_data.filter(\"page == 'NextSong'\").groupBy(\"userId\").count()\n",
    "songs_played_count = songs_played_count.withColumnRenamed('count', 'songs_played')\n",
    "songs_played_count.show(3)"
   ]
  },
  {
   "cell_type": "code",
   "execution_count": 30,
   "metadata": {},
   "outputs": [],
   "source": [
    "avg_title_length = sparkify_data.select(['userId', 'length']).distinct().groupBy(\"userId\") \\\n",
    ".agg(avg(\"length\").alias(\"avg_title_length\")) # Unclear if \"length\" is the length of a session or a song\n",
    "# avg_title_length.show(3)"
   ]
  },
  {
   "cell_type": "code",
   "execution_count": 31,
   "metadata": {},
   "outputs": [
    {
     "name": "stdout",
     "output_type": "stream",
     "text": [
      "+------+-----------------------+\n",
      "|userId|songs_added_to_playlist|\n",
      "+------+-----------------------+\n",
      "|100010|                      7|\n",
      "|200002|                      8|\n",
      "|   124|                    118|\n",
      "+------+-----------------------+\n",
      "only showing top 3 rows\n",
      "\n"
     ]
    }
   ],
   "source": [
    "songs_added_to_playlist = sparkify_data.where(sparkify_data.page==\"Add to Playlist\").groupby(\"userId\").count()\n",
    "songs_added_to_playlist = songs_added_to_playlist.withColumnRenamed('count', 'songs_added_to_playlist')\n",
    "songs_added_to_playlist.show(3)"
   ]
  },
  {
   "cell_type": "code",
   "execution_count": 32,
   "metadata": {},
   "outputs": [
    {
     "name": "stdout",
     "output_type": "stream",
     "text": [
      "+------+-----------+\n",
      "|userId|like_counts|\n",
      "+------+-----------+\n",
      "|100010|         17|\n",
      "|200002|         21|\n",
      "|   124|        171|\n",
      "+------+-----------+\n",
      "only showing top 3 rows\n",
      "\n"
     ]
    }
   ],
   "source": [
    "like_counts = sparkify_data.where(sparkify_data.page==\"Thumbs Up\").groupby(\"userId\").count()\n",
    "like_counts = like_counts.withColumnRenamed('count', 'like_counts')\n",
    "like_counts.show(3)"
   ]
  },
  {
   "cell_type": "code",
   "execution_count": 33,
   "metadata": {},
   "outputs": [
    {
     "name": "stdout",
     "output_type": "stream",
     "text": [
      "+------+--------------+\n",
      "|userId|dislike_counts|\n",
      "+------+--------------+\n",
      "|100010|             5|\n",
      "|200002|             6|\n",
      "|   124|            41|\n",
      "+------+--------------+\n",
      "only showing top 3 rows\n",
      "\n"
     ]
    }
   ],
   "source": [
    "dislike_counts = sparkify_data.where(sparkify_data.page==\"Thumbs Down\").groupby(\"userId\").count()\n",
    "dislike_counts = dislike_counts.withColumnRenamed('count', 'dislike_counts')\n",
    "dislike_counts.show(3)\n",
    "# Maybe use a ratio --> liked / (liked + disliked)"
   ]
  },
  {
   "cell_type": "code",
   "execution_count": 34,
   "metadata": {},
   "outputs": [
    {
     "name": "stdout",
     "output_type": "stream",
     "text": [
      "+------+------------------------+\n",
      "|userId|songs_played_per_session|\n",
      "+------+------------------------+\n",
      "|100010|      39.285714285714285|\n",
      "|200002|                    64.5|\n",
      "|   125|                     8.0|\n",
      "+------+------------------------+\n",
      "only showing top 3 rows\n",
      "\n"
     ]
    }
   ],
   "source": [
    "songs_played_per_session = sparkify_data.where(sparkify_data.page==\"NextSong\").groupby(\"userId\", \"sessionId\").count()\n",
    "songs_played_per_session = songs_played_per_session.groupby(\"userId\").agg(avg(songs_played_per_session[\"count\"]).alias(\"songs_played_per_session\"))\n",
    "songs_played_per_session.show(3)"
   ]
  },
  {
   "cell_type": "code",
   "execution_count": 36,
   "metadata": {},
   "outputs": [
    {
     "name": "stdout",
     "output_type": "stream",
     "text": [
      "+------+-----+------------+------------------------+-----------------------+-----------+--------------+\n",
      "|userId|churn|songs_played|songs_played_per_session|songs_added_to_playlist|like_counts|dislike_counts|\n",
      "+------+-----+------------+------------------------+-----------------------+-----------+--------------+\n",
      "|100010|    0|         275|      39.285714285714285|                      7|         17|             5|\n",
      "|200002|    0|         387|                    64.5|                      8|         21|             6|\n",
      "|   124|    0|        4079|      145.67857142857142|                    118|        171|            41|\n",
      "|    51|    1|        2111|                   211.1|                     52|        100|            21|\n",
      "|     7|    0|         150|      21.428571428571427|                      5|          7|             1|\n",
      "+------+-----+------------+------------------------+-----------------------+-----------+--------------+\n",
      "only showing top 5 rows\n",
      "\n"
     ]
    }
   ],
   "source": [
    "users = churn\n",
    "users = users.join(songs_played_count, on=\"userId\", how=\"inner\")\n",
    "users = users.join(songs_played_per_session, on=\"userId\", how=\"inner\")\n",
    "users = users.join(songs_added_to_playlist, on=\"userId\", how=\"inner\")\n",
    "users = users.join(like_counts, on=\"userId\", how=\"inner\")\n",
    "users = users.join(dislike_counts, on=\"userId\", how=\"inner\")\n",
    "users.show(5)"
   ]
  },
  {
   "cell_type": "code",
   "execution_count": 37,
   "metadata": {},
   "outputs": [],
   "source": [
    "def convert_to_float(dataset, col_names, new_type):\n",
    "    for col_name in col_names:\n",
    "        dataset = dataset.withColumn(col_name, dataset[col_name].cast(new_type))\n",
    "    return dataset"
   ]
  },
  {
   "cell_type": "code",
   "execution_count": 38,
   "metadata": {},
   "outputs": [],
   "source": [
    "convert_cols = users.columns[1:]\n",
    "users = convert_to_float(users, convert_cols, FloatType())"
   ]
  },
  {
   "cell_type": "code",
   "execution_count": 39,
   "metadata": {},
   "outputs": [
    {
     "name": "stdout",
     "output_type": "stream",
     "text": [
      "root\n",
      " |-- userId: string (nullable = true)\n",
      " |-- churn: float (nullable = true)\n",
      " |-- songs_played: float (nullable = false)\n",
      " |-- songs_played_per_session: float (nullable = true)\n",
      " |-- songs_added_to_playlist: float (nullable = false)\n",
      " |-- like_counts: float (nullable = false)\n",
      " |-- dislike_counts: float (nullable = false)\n",
      "\n"
     ]
    }
   ],
   "source": [
    "users.printSchema()"
   ]
  },
  {
   "cell_type": "markdown",
   "metadata": {},
   "source": [
    "## Plot feature distribution"
   ]
  },
  {
   "cell_type": "code",
   "execution_count": 40,
   "metadata": {},
   "outputs": [],
   "source": [
    "columns_to_plot = users.columns[1:]\n",
    "plot_df = users.select(columns_to_plot).toPandas()"
   ]
  },
  {
   "cell_type": "code",
   "execution_count": 41,
   "metadata": {},
   "outputs": [
    {
     "data": {
      "image/png": "[encoded data removed]",
      "text/plain": [
       "<matplotlib.figure.Figure at 0x7fec04243780>"
      ]
     },
     "metadata": {
      "needs_background": "light"
     },
     "output_type": "display_data"
    }
   ],
   "source": [
    "fig = plt.figure(figsize = (12, 16))\n",
    "\n",
    "# Skewed feature plotting\n",
    "for i, feature in enumerate(columns_to_plot):\n",
    "    ax = fig.add_subplot(4, 2, i + 1)\n",
    "    ax.hist(plot_df[feature], bins=25, color='lightblue')\n",
    "    ax.set_title(\"'%s' Feature \"%(feature), fontsize = 14)\n",
    "    ax.set_ylabel(\"User count\")\n",
    "\n",
    "fig.suptitle(\"Distributions of continuous features\", fontsize=16, y=1.05)\n",
    "fig.tight_layout()"
   ]
  },
  {
   "cell_type": "markdown",
   "metadata": {},
   "source": [
    "Most feature distributions are right skewed. Due to skewed data in our model, we will normalize the features in order to nullify the impact of larger values over smaller values."
   ]
  },
  {
   "cell_type": "markdown",
   "metadata": {},
   "source": [
    "# Modeling\n",
    "Split the full dataset into train, test, and validation sets. Test out several of the machine learning methods you learned. Evaluate the accuracy of the various models, tuning parameters as necessary. Determine your winning model based on test accuracy and report results on the validation set. Since the churned users are a fairly small subset, I suggest using F1 score as the metric to optimize.\n",
    "\n",
    "Based on the Exploratory Data Analysis above, the features engineered and picked for modelling are defined below, along with the motivation for each feature."
   ]
  },
  {
   "cell_type": "code",
   "execution_count": 42,
   "metadata": {},
   "outputs": [],
   "source": [
    "features = [\n",
    "    \"songs_played\",\n",
    "    \"songs_added_to_playlist\",\n",
    "    \"like_counts\",\n",
    "    \"dislike_counts\",\n",
    "    \"songs_played_per_session\",\n",
    "]"
   ]
  },
  {
   "cell_type": "code",
   "execution_count": 43,
   "metadata": {},
   "outputs": [],
   "source": [
    "# Assemble feature vector\n",
    "assembler = VectorAssembler(inputCols=features, outputCol=\"features_vector\")\n",
    "features_transformed = assembler.transform(users)"
   ]
  },
  {
   "cell_type": "code",
   "execution_count": 44,
   "metadata": {},
   "outputs": [],
   "source": [
    "# Scale feature vector\n",
    "scaler = StandardScaler(inputCol=\"features_vector\", outputCol=\"features_scaled\", withStd=True, withMean=False)\n",
    "scaler_model = scaler.fit(features_transformed)\n",
    "scaled_df = scaler_model.transform(features_transformed)"
   ]
  },
  {
   "cell_type": "code",
   "execution_count": 45,
   "metadata": {},
   "outputs": [
    {
     "data": {
      "text/plain": [
       "[Row(userId='100010', churn=0.0, songs_played=275.0, songs_played_per_session=39.28571319580078, songs_added_to_playlist=7.0, like_counts=17.0, dislike_counts=5.0, features_vector=DenseVector([275.0, 7.0, 17.0, 5.0, 39.2857]), features_scaled=DenseVector([0.2463, 0.211, 0.2552, 0.3781, 0.9502]))]"
      ]
     },
     "execution_count": 45,
     "metadata": {},
     "output_type": "execute_result"
    }
   ],
   "source": [
    "scaled_df.head(1)"
   ]
  },
  {
   "cell_type": "code",
   "execution_count": 46,
   "metadata": {},
   "outputs": [],
   "source": [
    "df_rdy = scaled_df.withColumnRenamed(\"churn\", \"label\") # Workaround for below: IllegalArgumentException: 'Field \"label\" does not exist"
   ]
  },
  {
   "cell_type": "code",
   "execution_count": 47,
   "metadata": {},
   "outputs": [],
   "source": [
    "df_rdy = df_rdy.withColumnRenamed(\"features_scaled\", \"features\")"
   ]
  },
  {
   "cell_type": "code",
   "execution_count": 48,
   "metadata": {},
   "outputs": [
    {
     "data": {
      "text/plain": [
       "[Row(userId='100010', label=0.0, songs_played=275.0, songs_played_per_session=39.28571319580078, songs_added_to_playlist=7.0, like_counts=17.0, dislike_counts=5.0, features_vector=DenseVector([275.0, 7.0, 17.0, 5.0, 39.2857]), features=DenseVector([0.2463, 0.211, 0.2552, 0.3781, 0.9502]))]"
      ]
     },
     "execution_count": 48,
     "metadata": {},
     "output_type": "execute_result"
    }
   ],
   "source": [
    "df_rdy.head(1)"
   ]
  },
  {
   "cell_type": "code",
   "execution_count": 49,
   "metadata": {},
   "outputs": [],
   "source": [
    "# df_rdy.count() # 200 rows/users\n",
    "# df_rdy = df_rdy.take(10)"
   ]
  },
  {
   "cell_type": "markdown",
   "metadata": {},
   "source": [
    "### Model Selection & Evaluation\n",
    "\n",
    "This part of the project includes the model selection - where the data is split into training and validation sets, and then passed on to the algorithms, which will train the data using cross validation, and then test it on the validation set.\n",
    "\n",
    "In the final section of the project, where 2 different algorithms are trained, validated, tuned, and evaluated.\n",
    "Based on the initial evaluations, the best model is picked for hyperparameter tuning.\n",
    "\n",
    "#### Metrics\n",
    "\n",
    "The training data is imbalanced with more samples in the not-churn class than in the churn class. Hence, we use the F1 score instead of accuracy as the evaluator.\n",
    "\n",
    "We will train 2 algorithms on the dataset. The best model will then be selected for tuning.\n",
    "\n",
    "* RandomForestClassifier\n",
    "* LogisticRegression"
   ]
  },
  {
   "cell_type": "code",
   "execution_count": 50,
   "metadata": {},
   "outputs": [],
   "source": [
    "train, test = df_rdy.randomSplit([0.8, 0.2], seed=42)"
   ]
  },
  {
   "cell_type": "markdown",
   "metadata": {},
   "source": [
    "#### Random Forest\n",
    "\n",
    "The Random Forest Classifier uses multiple Decision Tree Classifiers on different subsets of the data. The Random Forest Classifier's default state of Bootstrap being set to True, means that the decision trees will be used on subsets of the data, and then the metrics are averaged across all the decision trees.\n",
    "Being one of the most popular algorithms for a Classification problem, the Random Forest Classifier works well in this particular problem as well, as it basically uses Decision Trees to analyze a binary outcome variable.\n",
    "And as mentioned above, the F1-Score will be used to evaluate the model's performance, due to the imbalanced classes."
   ]
  },
  {
   "cell_type": "code",
   "execution_count": 62,
   "metadata": {},
   "outputs": [],
   "source": [
    "# The model is instantiated and fitted based on cross-validation, with F1 score as evaluation metric\n",
    "rf = RandomForestClassifier(featuresCol='features_scaled', labelCol='label', seed=42, maxDepth=5)\n",
    "f1_score = MulticlassClassificationEvaluator(metricName='f1')\n",
    "\n",
    "paramGrid = ParamGridBuilder().build()\n",
    "evaluator = MulticlassClassificationEvaluator(predictionCol=\"prediction\", labelCol='label')\n",
    "\n",
    "crossValForest = CrossValidator(estimator=rf, estimatorParamMaps=paramGrid, evaluator=f1_score, numFolds=10)"
   ]
  },
  {
   "cell_type": "code",
   "execution_count": 63,
   "metadata": {},
   "outputs": [
    {
     "data": {
      "text/plain": [
       "[0.6728877755948056]"
      ]
     },
     "execution_count": 63,
     "metadata": {},
     "output_type": "execute_result"
    }
   ],
   "source": [
    "# The Cross-Validation RandomForestClassifier model is fitted to the training data\n",
    "start = time.time()\n",
    "cvForest = crossValForest.fit(train)\n",
    "end = time.time()\n",
    "print(f'Model trained in {end - start} seconds')\n",
    "cvForest.avgMetrics"
   ]
  },
  {
   "cell_type": "code",
   "execution_count": 67,
   "metadata": {},
   "outputs": [
    {
     "name": "stdout",
     "output_type": "stream",
     "text": [
      "The eval. metrics for Random Forest Classifier:\n",
      "F-1 Score 0.7419354838709677\n",
      "Accuracy 0.6765591397849463\n"
     ]
    }
   ],
   "source": [
    "# Getting the metrics for the performance of the model on the validation dataset\n",
    "predForest = cvForest.transform(test)\n",
    "\n",
    "print(\"The eval. metrics for Random Forest Classifier:\")\n",
    "print(\"F-1 Score {}\".format(evaluator.evaluate(predForest, {evaluator.metricName : \"accuracy\"})))\n",
    "print(\"Accuracy {}\".format(evaluator.evaluate(predForest, {evaluator.metricName : \"f1\"})))"
   ]
  },
  {
   "cell_type": "markdown",
   "metadata": {},
   "source": [
    "The Random Forest Classifier has obtained an F1-Score of 74.19%.\n",
    "\n",
    "However, note that the accuracy is lower than the F1-Score, indicating an imbalanced dataset."
   ]
  },
  {
   "cell_type": "markdown",
   "metadata": {},
   "source": [
    "#### Logistic Regression\n",
    "\n",
    "One of the simplest classification algorithms, the Logistic Regression is a binary classification algorithm, where the input features are used to estimate, probabilistically, the target variable."
   ]
  },
  {
   "cell_type": "code",
   "execution_count": 70,
   "metadata": {},
   "outputs": [
    {
     "data": {
      "text/plain": [
       "[0.6809507340131279]"
      ]
     },
     "execution_count": 70,
     "metadata": {},
     "output_type": "execute_result"
    }
   ],
   "source": [
    "# Instantiating the Logistic Regression model\n",
    "logistic = LogisticRegression(featuresCol='features_scaled', labelCol='label', maxIter=50)\n",
    "\n",
    "# The model is fitted with cross validation on the training data\n",
    "crossValLog = CrossValidator(estimator=logistic, estimatorParamMaps=paramGrid, evaluator=f1_score, numFolds=3)\n",
    "cvLog = crossValLog.fit(train)\n",
    "cvLog.avgMetrics"
   ]
  },
  {
   "cell_type": "code",
   "execution_count": 72,
   "metadata": {},
   "outputs": [
    {
     "name": "stdout",
     "output_type": "stream",
     "text": [
      "The eval. metrics for Logistic Regression: \n",
      "F-1 Score: 0.6774193548387096\n",
      "Accuracy: 0.5471464019851118\n"
     ]
    }
   ],
   "source": [
    "# Making predictions on the Validation data for Logistic Regression.\n",
    "predLog = cvLog.transform(test)\n",
    "\n",
    "print(\"The eval. metrics for Logistic Regression: \")\n",
    "print(\"F-1 Score: {}\".format(evaluator.evaluate(predLog, {evaluator.metricName : \"accuracy\"})))\n",
    "print(\"Accuracy: {}\".format(evaluator.evaluate(predLog, {evaluator.metricName : \"f1\"})))"
   ]
  },
  {
   "cell_type": "markdown",
   "metadata": {},
   "source": [
    "### Model Tuning"
   ]
  },
  {
   "cell_type": "markdown",
   "metadata": {},
   "source": [
    "#### Random Forest - Tuning\n",
    "\n",
    "The maxDepth and numTrees parameters of the Random Forest model will be tuned.\n",
    "\n",
    "* maxDepth is the depth of each decision tree in the ensemble. The deeper the trees, the more information is collected to make a classification, but could also lead to overfitting.\n",
    "\n",
    "* numTrees is the total number of decision trees to run in the ensemble. The default value is 20."
   ]
  },
  {
   "cell_type": "code",
   "execution_count": 51,
   "metadata": {},
   "outputs": [
    {
     "data": {
      "text/plain": [
       "[0.6934161545932176,\n",
       " 0.7047776346691189,\n",
       " 0.7205750736727716,\n",
       " 0.7384471386544124]"
      ]
     },
     "execution_count": 51,
     "metadata": {},
     "output_type": "execute_result"
    }
   ],
   "source": [
    "forest_grid = RandomForestClassifier(seed=42)\n",
    "paramGridForest = ParamGridBuilder().addGrid(forest_grid.maxDepth, [5, 10]).\\\n",
    "                                     addGrid(forest_grid.numTrees, [20, 10]).build()\n",
    "f1_evaluation = MulticlassClassificationEvaluator(metricName='f1')\n",
    "crossValForestGrid = CrossValidator(estimator=forest_grid, estimatorParamMaps=paramGridForest, evaluator=f1_evaluation, numFolds=10)\n",
    "cvforest = crossValForestGrid.fit(train)\n",
    "cvforest.avgMetrics"
   ]
  },
  {
   "cell_type": "code",
   "execution_count": 53,
   "metadata": {},
   "outputs": [
    {
     "name": "stdout",
     "output_type": "stream",
     "text": [
      "The final metrics for the tuned RandomForest Classifier: \n",
      "The F-1 Score is 0.7741935483870968\n",
      "The accuracy is 0.7485701212537176\n"
     ]
    }
   ],
   "source": [
    "predictions = cvforest.transform(test)\n",
    "evaluator = MulticlassClassificationEvaluator(predictionCol = \"prediction\")\n",
    "print(\"The final metrics for the tuned RandomForest Classifier: \")\n",
    "print(\"The F-1 Score is {}\".format(evaluator.evaluate(predictions, {evaluator.metricName : \"accuracy\"})))\n",
    "print(\"The accuracy is {}\".format(evaluator.evaluate(predictions, {evaluator.metricName : \"f1\"})))"
   ]
  },
  {
   "cell_type": "markdown",
   "metadata": {},
   "source": [
    "## Conclusion\n",
    "\n",
    "The hyperparameter tuning with grid search did improve the Random Forest Classifier Model by 3.8% to an overall F1 score of **77.41%**.\n",
    "\n",
    "Compared to the Logistic Regression Model with a 67.74% score, the Random Forest Model is recommended in terms of scaling the algorithm to the large 12 GB dataset.\n",
    "\n",
    "The quality of the model is **limited by the number of unique users** in the dataset. In combination with the **class imbalance**, the small dataset size can lead to overestimated metrics. A possible solution approach is undersampling the majority class (churn == 0). On the one hand, this can lead to more unbiased estimates, while there are drawbacks on the other hand, such as not enough observations (in this case users) to train the models."
   ]
  },
  {
   "cell_type": "markdown",
   "metadata": {},
   "source": [
    "## Outlook\n",
    "\n",
    "Possible improvements are\n",
    "\n",
    "* Trying other models such as\n",
    "    * GradientBoostedTreeClassifier\n",
    "    * Naive Bayes classifier\n",
    "    * DecisionTreeClassifier\n",
    "* Further feature engineering\n",
    "    * Relative features, e.g. (likes / (likes + dislikes))\n",
    "* Extensive model tuning\n",
    "    * More training time\n",
    "    * Larger grid search parameter ranges"
   ]
  }
 ],
 "metadata": {
  "kernelspec": {
   "display_name": "Python 3",
   "language": "python",
   "name": "python3"
  }
 },
 "nbformat": 4,
 "nbformat_minor": 2
}
